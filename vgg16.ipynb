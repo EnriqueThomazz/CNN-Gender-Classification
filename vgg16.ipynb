{
 "cells": [
  {
   "cell_type": "code",
   "execution_count": 1,
   "id": "f646f02a-4f85-49d6-8f8e-53b750bcc9ed",
   "metadata": {},
   "outputs": [],
   "source": [
    "import numpy as np\n",
    "from PIL import Image\n",
    "import os\n",
    "\n",
    "from tensorflow.keras.layers import Dense, Flatten\n",
    "from tensorflow.keras.models import Sequential\n",
    "from tensorflow.keras.preprocessing.image import ImageDataGenerator\n",
    "from tensorflow.keras.applications.vgg16 import preprocess_input\n",
    "from tensorflow.keras.applications import VGG16\n",
    "from tensorflow.keras.applications.vgg16 import preprocess_input"
   ]
  },
  {
   "cell_type": "code",
   "execution_count": 2,
   "id": "eb59ac2b-d9b3-45fa-96dd-5e0a592e2376",
   "metadata": {},
   "outputs": [
    {
     "name": "stdout",
     "output_type": "stream",
     "text": [
      "Found 2722 images belonging to 2 classes.\n",
      "Found 583 images belonging to 2 classes.\n",
      "Found 586 images belonging to 2 classes.\n"
     ]
    }
   ],
   "source": [
    "#Geradores de dados\n",
    "train_datagen = ImageDataGenerator(preprocessing_function=preprocess_input)\n",
    "val_test_datagen = ImageDataGenerator(preprocessing_function=preprocess_input)\n",
    "\n",
    "# Geradores\n",
    "train_gen = train_datagen.flow_from_directory(\n",
    "    './gender/treino', target_size=(224,224), batch_size=32, color_mode=\"rgb\", class_mode='binary')\n",
    "\n",
    "val_gen = val_test_datagen.flow_from_directory(\n",
    "    './gender/validacao', target_size=(224,224), batch_size=32, color_mode=\"rgb\", class_mode='binary')\n",
    "\n",
    "test_gen = val_test_datagen.flow_from_directory(\n",
    "    './gender/teste', target_size=(224,224), batch_size=32, color_mode=\"rgb\", class_mode='binary', shuffle=False)"
   ]
  },
  {
   "cell_type": "code",
   "execution_count": 3,
   "id": "cd33230e-2308-419e-8e31-cb658b24b1dc",
   "metadata": {},
   "outputs": [],
   "source": [
    "base_model = VGG16(weights='imagenet', include_top=False, input_shape=(224, 224, 3))\n",
    "base_model.trainable = False\n",
    "\n",
    "model = Sequential([\n",
    "    base_model,\n",
    "    Flatten(),\n",
    "    (Dense(1, activation = \"sigmoid\"))\n",
    "])"
   ]
  },
  {
   "cell_type": "code",
   "execution_count": 4,
   "id": "f4ae7193-1ddf-4a8e-aea4-d5014658e3c7",
   "metadata": {},
   "outputs": [],
   "source": [
    "model.compile(optimizer=\"adam\", loss='binary_crossentropy', metrics=['accuracy'])"
   ]
  },
  {
   "cell_type": "code",
   "execution_count": 5,
   "id": "d86dfe5f-05af-4b57-8221-091270e2346a",
   "metadata": {},
   "outputs": [
    {
     "name": "stdout",
     "output_type": "stream",
     "text": [
      "Epoch 1/10\n",
      "86/86 [==============================] - 47s 502ms/step - loss: 1.1210 - accuracy: 0.8725 - val_loss: 0.8440 - val_accuracy: 0.9074\n",
      "Epoch 2/10\n",
      "86/86 [==============================] - 15s 177ms/step - loss: 0.1979 - accuracy: 0.9625 - val_loss: 0.8629 - val_accuracy: 0.9074\n",
      "Epoch 3/10\n",
      "86/86 [==============================] - 15s 177ms/step - loss: 0.0717 - accuracy: 0.9875 - val_loss: 0.8332 - val_accuracy: 0.9022\n",
      "Epoch 4/10\n",
      "86/86 [==============================] - 15s 178ms/step - loss: 0.0140 - accuracy: 0.9952 - val_loss: 0.7673 - val_accuracy: 0.9022\n",
      "Epoch 5/10\n",
      "86/86 [==============================] - 15s 178ms/step - loss: 0.0063 - accuracy: 0.9974 - val_loss: 0.7651 - val_accuracy: 0.9142\n",
      "Epoch 6/10\n",
      "86/86 [==============================] - 15s 178ms/step - loss: 0.0071 - accuracy: 0.9974 - val_loss: 0.7869 - val_accuracy: 0.9108\n",
      "Epoch 7/10\n",
      "86/86 [==============================] - 15s 178ms/step - loss: 2.4798e-04 - accuracy: 1.0000 - val_loss: 0.7991 - val_accuracy: 0.9108\n",
      "Epoch 8/10\n",
      "86/86 [==============================] - 15s 178ms/step - loss: 6.6421e-05 - accuracy: 1.0000 - val_loss: 0.7869 - val_accuracy: 0.9108\n",
      "Epoch 9/10\n",
      "86/86 [==============================] - 15s 179ms/step - loss: 3.9424e-05 - accuracy: 1.0000 - val_loss: 0.7860 - val_accuracy: 0.9108\n",
      "Epoch 10/10\n",
      "86/86 [==============================] - 15s 179ms/step - loss: 3.4040e-05 - accuracy: 1.0000 - val_loss: 0.7837 - val_accuracy: 0.9108\n"
     ]
    }
   ],
   "source": [
    "history = model.fit(\n",
    "    train_gen,\n",
    "    validation_data=val_gen,\n",
    "    epochs=10\n",
    ")"
   ]
  },
  {
   "cell_type": "code",
   "execution_count": 6,
   "id": "fdeb9d16-2e24-4942-9fb2-17617de5df05",
   "metadata": {},
   "outputs": [
    {
     "name": "stdout",
     "output_type": "stream",
     "text": [
      "19/19 [==============================] - 6s 336ms/step - loss: 0.7156 - accuracy: 0.9130\n",
      "Acurácia no teste: 0.91\n"
     ]
    }
   ],
   "source": [
    "loss, acc = model.evaluate(test_gen)\n",
    "print(f\"Acurácia no teste: {acc:.2f}\")"
   ]
  },
  {
   "cell_type": "code",
   "execution_count": 7,
   "id": "f813a66e-7dbf-4dc9-ad7b-977938f7f199",
   "metadata": {},
   "outputs": [
    {
     "name": "stdout",
     "output_type": "stream",
     "text": [
      "19/19 [==============================] - 3s 153ms/step\n",
      "[[267  26]\n",
      " [ 25 268]]\n",
      "              precision    recall  f1-score   support\n",
      "\n",
      "   masculino       0.91      0.91      0.91       293\n",
      "    feminino       0.91      0.91      0.91       293\n",
      "\n",
      "    accuracy                           0.91       586\n",
      "   macro avg       0.91      0.91      0.91       586\n",
      "weighted avg       0.91      0.91      0.91       586\n",
      "\n"
     ]
    }
   ],
   "source": [
    "from sklearn.metrics import classification_report, confusion_matrix\n",
    "import numpy as np\n",
    "\n",
    "# Previsões\n",
    "y_true = test_gen.classes\n",
    "y_pred = (model.predict(test_gen) > 0.5).astype(\"int32\")\n",
    "\n",
    "print(confusion_matrix(y_true, y_pred))\n",
    "print(classification_report(y_true, y_pred, target_names=['masculino', 'feminino']))"
   ]
  },
  {
   "cell_type": "code",
   "execution_count": 8,
   "id": "4e38ceb9-4d9f-4ebd-8893-2b51dc06ccde",
   "metadata": {},
   "outputs": [],
   "source": [
    "model.save('modelo_genero_vgg16.keras')"
   ]
  }
 ],
 "metadata": {
  "kernelspec": {
   "display_name": "Python 3 (ipykernel)",
   "language": "python",
   "name": "python3"
  },
  "language_info": {
   "codemirror_mode": {
    "name": "ipython",
    "version": 3
   },
   "file_extension": ".py",
   "mimetype": "text/x-python",
   "name": "python",
   "nbconvert_exporter": "python",
   "pygments_lexer": "ipython3",
   "version": "3.10.0"
  }
 },
 "nbformat": 4,
 "nbformat_minor": 5
}
