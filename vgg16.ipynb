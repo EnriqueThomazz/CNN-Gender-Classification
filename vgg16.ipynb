{
 "cells": [
  {
   "cell_type": "code",
   "execution_count": 1,
   "id": "f646f02a-4f85-49d6-8f8e-53b750bcc9ed",
   "metadata": {},
   "outputs": [],
   "source": [
    "import numpy as np\n",
    "from PIL import Image\n",
    "import os\n",
    "\n",
    "from tensorflow.keras.layers import Dense\n",
    "from tensorflow.keras.models import Sequential\n",
    "from tensorflow.keras.preprocessing.image import ImageDataGenerator\n",
    "from tensorflow.keras.applications.vgg16 import preprocess_input\n",
    "from tensorflow.keras.applications import VGG16"
   ]
  },
  {
   "cell_type": "code",
   "execution_count": 2,
   "id": "eb59ac2b-d9b3-45fa-96dd-5e0a592e2376",
   "metadata": {},
   "outputs": [
    {
     "name": "stdout",
     "output_type": "stream",
     "text": [
      "Found 2722 images belonging to 2 classes.\n",
      "Found 583 images belonging to 2 classes.\n",
      "Found 586 images belonging to 2 classes.\n"
     ]
    }
   ],
   "source": [
    "#Geradores de dados\n",
    "train_datagen = ImageDataGenerator()\n",
    "val_test_datagen = ImageDataGenerator()\n",
    "\n",
    "# Geradores\n",
    "train_gen = train_datagen.flow_from_directory(\n",
    "    './gender/treino', target_size=(224,224), batch_size=32, color_mode=\"rgb\", class_mode='binary')\n",
    "\n",
    "val_gen = val_test_datagen.flow_from_directory(\n",
    "    './gender/validacao', target_size=(224,224), batch_size=32, color_mode=\"rgb\", class_mode='binary')\n",
    "\n",
    "test_gen = val_test_datagen.flow_from_directory(\n",
    "    './gender/teste', target_size=(224,224), batch_size=32, color_mode=\"rgb\", class_mode='binary', shuffle=False)"
   ]
  },
  {
   "cell_type": "code",
   "execution_count": 3,
   "id": "cd33230e-2308-419e-8e31-cb658b24b1dc",
   "metadata": {},
   "outputs": [],
   "source": [
    "model = Sequential()\n",
    "model.add(VGG16())\n",
    "model.add(Dense(1, activation = \"sigmoid\"))"
   ]
  },
  {
   "cell_type": "code",
   "execution_count": 4,
   "id": "f4ae7193-1ddf-4a8e-aea4-d5014658e3c7",
   "metadata": {},
   "outputs": [],
   "source": [
    "model.compile(optimizer=\"adam\", loss='binary_crossentropy', metrics=['accuracy'])"
   ]
  },
  {
   "cell_type": "code",
   "execution_count": null,
   "id": "d86dfe5f-05af-4b57-8221-091270e2346a",
   "metadata": {},
   "outputs": [
    {
     "name": "stdout",
     "output_type": "stream",
     "text": [
      "Epoch 1/10\n"
     ]
    },
    {
     "name": "stderr",
     "output_type": "stream",
     "text": [
      "C:\\Users\\enriq\\AppData\\Local\\Programs\\Python\\Python310\\lib\\site-packages\\keras\\src\\trainers\\data_adapters\\py_dataset_adapter.py:121: UserWarning: Your `PyDataset` class should call `super().__init__(**kwargs)` in its constructor. `**kwargs` can include `workers`, `use_multiprocessing`, `max_queue_size`. Do not pass these arguments to `fit()`, as they will be ignored.\n",
      "  self._warn_if_super_not_called()\n"
     ]
    },
    {
     "name": "stdout",
     "output_type": "stream",
     "text": [
      "\u001b[1m10/86\u001b[0m \u001b[32m━━\u001b[0m\u001b[37m━━━━━━━━━━━━━━━━━━\u001b[0m \u001b[1m13:31\u001b[0m 11s/step - accuracy: 0.5545 - loss: 0.6936"
     ]
    }
   ],
   "source": [
    "history = model.fit(\n",
    "    train_gen,\n",
    "    validation_data=val_gen,\n",
    "    epochs=10\n",
    ")"
   ]
  },
  {
   "cell_type": "code",
   "execution_count": null,
   "id": "fdeb9d16-2e24-4942-9fb2-17617de5df05",
   "metadata": {},
   "outputs": [],
   "source": [
    "loss, acc = model.evaluate(test_gen)\n",
    "print(f\"Acurácia no teste: {acc:.2f}\")"
   ]
  },
  {
   "cell_type": "code",
   "execution_count": null,
   "id": "f813a66e-7dbf-4dc9-ad7b-977938f7f199",
   "metadata": {},
   "outputs": [],
   "source": [
    "from sklearn.metrics import classification_report, confusion_matrix\n",
    "import numpy as np\n",
    "\n",
    "# Previsões\n",
    "y_true = test_gen.classes\n",
    "y_pred = (model.predict(test_gen) > 0.5).astype(\"int32\")\n",
    "\n",
    "print(confusion_matrix(y_true, y_pred))\n",
    "print(classification_report(y_true, y_pred, target_names=['masculino', 'feminino']))"
   ]
  },
  {
   "cell_type": "code",
   "execution_count": null,
   "id": "4e38ceb9-4d9f-4ebd-8893-2b51dc06ccde",
   "metadata": {},
   "outputs": [],
   "source": [
    "model.save('modelo_genero_vgg16.keras')"
   ]
  }
 ],
 "metadata": {
  "kernelspec": {
   "display_name": "Python 3 (ipykernel)",
   "language": "python",
   "name": "python3"
  },
  "language_info": {
   "codemirror_mode": {
    "name": "ipython",
    "version": 3
   },
   "file_extension": ".py",
   "mimetype": "text/x-python",
   "name": "python",
   "nbconvert_exporter": "python",
   "pygments_lexer": "ipython3",
   "version": "3.10.0"
  }
 },
 "nbformat": 4,
 "nbformat_minor": 5
}
