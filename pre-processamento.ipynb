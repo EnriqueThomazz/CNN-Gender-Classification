{
 "cells": [
  {
   "cell_type": "code",
   "execution_count": 1,
   "id": "aa39f8fb-214a-4788-a7aa-95e8b0878ca9",
   "metadata": {},
   "outputs": [],
   "source": [
    "import os\n",
    "import cv2\n",
    "import numpy as np"
   ]
  },
  {
   "cell_type": "markdown",
   "id": "24cc4eee-61dc-4ddb-9848-0dfbfcbed354",
   "metadata": {},
   "source": [
    "## Definindo funções de carregamento/salvamento das imagens"
   ]
  },
  {
   "cell_type": "code",
   "execution_count": 22,
   "id": "64abf710-9d2f-4df5-b4ed-8e5ae45aede9",
   "metadata": {},
   "outputs": [],
   "source": [
    "# Carrega as imagens, faz resize e converte pra grayscale\n",
    "def load_images(folder, img_size=(96, 96)):\n",
    "    images = []\n",
    "    for file in os.listdir(folder):\n",
    "        path = os.path.join(folder, file)\n",
    "        img = cv2.imread(path)\n",
    "\n",
    "        if img is not None:\n",
    "            img = cv2.resize(img, img_size)\n",
    "            img = cv2.cvtColor(img, cv2.COLOR_BGR2GRAY) # Convertendo pra grayscale\n",
    "            images.append(img)\n",
    "\n",
    "    return images"
   ]
  },
  {
   "cell_type": "code",
   "execution_count": 23,
   "id": "da55c925-7fc0-448c-bd6b-98044b937739",
   "metadata": {},
   "outputs": [],
   "source": [
    "def save_images(images, folder):\n",
    "    for i, img in enumerate(images):\n",
    "        cv2.imwrite(folder + \"/\" + str(i) + \".jpg\", img)"
   ]
  },
  {
   "cell_type": "markdown",
   "id": "0688ee60-214a-4e95-8d08-058637a36d08",
   "metadata": {},
   "source": [
    "## Processando as imagens de homens e mulheres"
   ]
  },
  {
   "cell_type": "code",
   "execution_count": 25,
   "id": "ecaa2d7f-2723-4cb8-9fd1-a9afa8ff56a3",
   "metadata": {},
   "outputs": [],
   "source": [
    "male_imgs = load_images(\"./gender/consolidated/male\")\n",
    "\n",
    "save_images(male_imgs, \"./gender/img_totais/homens\")"
   ]
  },
  {
   "cell_type": "code",
   "execution_count": 26,
   "id": "5dd0eb28-974b-4633-a00f-f3b48fc6aa10",
   "metadata": {},
   "outputs": [],
   "source": [
    "female_imgs = load_images(\"./gender/consolidated/female\")\n",
    "\n",
    "save_images(female_imgs, \"./gender/img_totais/mulheres\")"
   ]
  },
  {
   "cell_type": "markdown",
   "id": "3e6a6a8d-2741-4df2-a2f5-100dc6f4c243",
   "metadata": {},
   "source": [
    "## Dividindo os dados em treino e teste"
   ]
  },
  {
   "cell_type": "code",
   "execution_count": 31,
   "id": "fe10e6c6-811f-4e8e-bd38-366be86a406a",
   "metadata": {},
   "outputs": [],
   "source": [
    "import random\n",
    "import shutil\n",
    "\n",
    "def split_dataset(folder_or, folder_des, label, train_sz=0.7, test_sz=0.15, val_sz=0.15):\n",
    "    files = os.listdir(os.path.join(folder_or, label))\n",
    "    random.shuffle(files)\n",
    "\n",
    "    N = len(files) # Num total de imagens\n",
    "    N_train = int(N * train_sz) # Tamanho do treino\n",
    "    N_val = int(N* val_sz) # Tamanho do teste\n",
    "\n",
    "    images = {\n",
    "        'treino': files[:N_train],\n",
    "        'validacao': files[N_train:N_train+N_val],\n",
    "        'teste': files[N_train+N_val:]\n",
    "    }\n",
    "\n",
    "    for im_type, images in images.items():\n",
    "        for img in images:\n",
    "            source = os.path.join(folder_or, label, img)\n",
    "            dest = os.path.join(folder_des, im_type, label, img)\n",
    "            shutil.copyfile(source, dest)            "
   ]
  },
  {
   "cell_type": "code",
   "execution_count": 33,
   "id": "240b92bd-bd5a-49b7-b3d2-5bbeda3d9b9b",
   "metadata": {},
   "outputs": [],
   "source": [
    "split_dataset(\"./gender/img_totais\", \"./gender\", \"homens\") # homens\n",
    "\n",
    "split_dataset(\"./gender/img_totais\", \"./gender\", \"mulheres\") # mulheres"
   ]
  }
 ],
 "metadata": {
  "kernelspec": {
   "display_name": "Python 3 (ipykernel)",
   "language": "python",
   "name": "python3"
  },
  "language_info": {
   "codemirror_mode": {
    "name": "ipython",
    "version": 3
   },
   "file_extension": ".py",
   "mimetype": "text/x-python",
   "name": "python",
   "nbconvert_exporter": "python",
   "pygments_lexer": "ipython3",
   "version": "3.10.0"
  }
 },
 "nbformat": 4,
 "nbformat_minor": 5
}
