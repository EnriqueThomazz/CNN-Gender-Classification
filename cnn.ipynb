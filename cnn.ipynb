{
 "cells": [
  {
   "cell_type": "code",
   "execution_count": 1,
   "id": "90b820b1-b76f-4447-b283-c3ad990084a2",
   "metadata": {},
   "outputs": [],
   "source": [
    "from tensorflow.keras.preprocessing.image import ImageDataGenerator"
   ]
  },
  {
   "cell_type": "code",
   "execution_count": 2,
   "id": "f63291f7-96ab-4f26-ab3c-6f7d4b433540",
   "metadata": {},
   "outputs": [
    {
     "name": "stdout",
     "output_type": "stream",
     "text": [
      "Found 2722 images belonging to 2 classes.\n",
      "Found 583 images belonging to 2 classes.\n",
      "Found 586 images belonging to 2 classes.\n"
     ]
    }
   ],
   "source": [
    "#Geradores de dados\n",
    "train_datagen = ImageDataGenerator(rescale=1./255, horizontal_flip=True, rotation_range=20)\n",
    "val_test_datagen = ImageDataGenerator(rescale=1./255)\n",
    "\n",
    "# Geradores\n",
    "train_gen = train_datagen.flow_from_directory(\n",
    "    './gender/treino', target_size=(96,96), batch_size=32, color_mode='grayscale', class_mode='binary')\n",
    "\n",
    "val_gen = val_test_datagen.flow_from_directory(\n",
    "    './gender/validacao', target_size=(96,96), batch_size=32, color_mode='grayscale',  class_mode='binary')\n",
    "\n",
    "test_gen = val_test_datagen.flow_from_directory(\n",
    "    './gender/teste', target_size=(96,96), batch_size=32, class_mode='binary', color_mode='grayscale',  shuffle=False)"
   ]
  },
  {
   "cell_type": "code",
   "execution_count": 3,
   "id": "e7a0ad75-fcc8-49b9-a487-9231bcce8bdd",
   "metadata": {},
   "outputs": [],
   "source": [
    "from tensorflow.keras.models import Sequential\n",
    "from tensorflow.keras.layers import Conv2D, MaxPooling2D, Flatten, Dense, Dropout, Input\n",
    "\n",
    "model = Sequential([\n",
    "    Input(shape=(96, 96, 1)),\n",
    "    # 32 filtros de convolucao 3x3 na imagem\n",
    "    # Usa funcao de ativacao relu\n",
    "    Conv2D(32, (3, 3), activation='relu'),\n",
    "    # Reduz o tamanho da imagem pela metade\n",
    "    MaxPooling2D(2, 2),\n",
    "\n",
    "    # 64 filtros de convolucao 3x3\n",
    "    Conv2D(64, (3, 3), activation='relu'),\n",
    "    # Reduz o tamanho pela metade\n",
    "    MaxPooling2D(2, 2),\n",
    "\n",
    "    # 128 filtros de convolucao 3x3\n",
    "    Conv2D(128, (3, 3), activation='relu'),\n",
    "    # Reduz pela metade\n",
    "    MaxPooling2D(2, 2),\n",
    "\n",
    "    # Achatando em um vetor\n",
    "    Flatten(),\n",
    "\n",
    "    # Zerando neuronios para evitar overfitting\n",
    "    Dropout(0.5),\n",
    "\n",
    "    # Camada densa (fully-connected)\n",
    "    Dense(128, activation='relu'),\n",
    "\n",
    "    # Camada de saida (binaria)\n",
    "    # Usa sigmoid\n",
    "    Dense(1, activation='sigmoid')\n",
    "])\n",
    "\n",
    "model.compile(optimizer='adam', loss='binary_crossentropy', metrics=['accuracy'])"
   ]
  },
  {
   "cell_type": "code",
   "execution_count": 4,
   "id": "8d376fd6-5e67-4409-91fa-7b0aa923d1fb",
   "metadata": {},
   "outputs": [
    {
     "name": "stdout",
     "output_type": "stream",
     "text": [
      "Epoch 1/20\n"
     ]
    },
    {
     "name": "stderr",
     "output_type": "stream",
     "text": [
      "C:\\Users\\enriq\\AppData\\Local\\Programs\\Python\\Python310\\lib\\site-packages\\keras\\src\\trainers\\data_adapters\\py_dataset_adapter.py:121: UserWarning: Your `PyDataset` class should call `super().__init__(**kwargs)` in its constructor. `**kwargs` can include `workers`, `use_multiprocessing`, `max_queue_size`. Do not pass these arguments to `fit()`, as they will be ignored.\n",
      "  self._warn_if_super_not_called()\n"
     ]
    },
    {
     "name": "stdout",
     "output_type": "stream",
     "text": [
      "\u001b[1m86/86\u001b[0m \u001b[32m━━━━━━━━━━━━━━━━━━━━\u001b[0m\u001b[37m\u001b[0m \u001b[1m10s\u001b[0m 99ms/step - accuracy: 0.5233 - loss: 0.6901 - val_accuracy: 0.7290 - val_loss: 0.5665\n",
      "Epoch 2/20\n",
      "\u001b[1m86/86\u001b[0m \u001b[32m━━━━━━━━━━━━━━━━━━━━\u001b[0m\u001b[37m\u001b[0m \u001b[1m8s\u001b[0m 95ms/step - accuracy: 0.7242 - loss: 0.5540 - val_accuracy: 0.7633 - val_loss: 0.5029\n",
      "Epoch 3/20\n",
      "\u001b[1m86/86\u001b[0m \u001b[32m━━━━━━━━━━━━━━━━━━━━\u001b[0m\u001b[37m\u001b[0m \u001b[1m8s\u001b[0m 90ms/step - accuracy: 0.7735 - loss: 0.4848 - val_accuracy: 0.8045 - val_loss: 0.4512\n",
      "Epoch 4/20\n",
      "\u001b[1m86/86\u001b[0m \u001b[32m━━━━━━━━━━━━━━━━━━━━\u001b[0m\u001b[37m\u001b[0m \u001b[1m7s\u001b[0m 83ms/step - accuracy: 0.8179 - loss: 0.4225 - val_accuracy: 0.7890 - val_loss: 0.4630\n",
      "Epoch 5/20\n",
      "\u001b[1m86/86\u001b[0m \u001b[32m━━━━━━━━━━━━━━━━━━━━\u001b[0m\u001b[37m\u001b[0m \u001b[1m7s\u001b[0m 83ms/step - accuracy: 0.8305 - loss: 0.4036 - val_accuracy: 0.8456 - val_loss: 0.3694\n",
      "Epoch 6/20\n",
      "\u001b[1m86/86\u001b[0m \u001b[32m━━━━━━━━━━━━━━━━━━━━\u001b[0m\u001b[37m\u001b[0m \u001b[1m7s\u001b[0m 83ms/step - accuracy: 0.8442 - loss: 0.3665 - val_accuracy: 0.8645 - val_loss: 0.3418\n",
      "Epoch 7/20\n",
      "\u001b[1m86/86\u001b[0m \u001b[32m━━━━━━━━━━━━━━━━━━━━\u001b[0m\u001b[37m\u001b[0m \u001b[1m7s\u001b[0m 82ms/step - accuracy: 0.8613 - loss: 0.3353 - val_accuracy: 0.8593 - val_loss: 0.3210\n",
      "Epoch 8/20\n",
      "\u001b[1m86/86\u001b[0m \u001b[32m━━━━━━━━━━━━━━━━━━━━\u001b[0m\u001b[37m\u001b[0m \u001b[1m7s\u001b[0m 82ms/step - accuracy: 0.8719 - loss: 0.3010 - val_accuracy: 0.8799 - val_loss: 0.2907\n",
      "Epoch 9/20\n",
      "\u001b[1m86/86\u001b[0m \u001b[32m━━━━━━━━━━━━━━━━━━━━\u001b[0m\u001b[37m\u001b[0m \u001b[1m7s\u001b[0m 82ms/step - accuracy: 0.8785 - loss: 0.3042 - val_accuracy: 0.8388 - val_loss: 0.3743\n",
      "Epoch 10/20\n",
      "\u001b[1m86/86\u001b[0m \u001b[32m━━━━━━━━━━━━━━━━━━━━\u001b[0m\u001b[37m\u001b[0m \u001b[1m7s\u001b[0m 82ms/step - accuracy: 0.8756 - loss: 0.2832 - val_accuracy: 0.8834 - val_loss: 0.2708\n",
      "Epoch 11/20\n",
      "\u001b[1m86/86\u001b[0m \u001b[32m━━━━━━━━━━━━━━━━━━━━\u001b[0m\u001b[37m\u001b[0m \u001b[1m7s\u001b[0m 81ms/step - accuracy: 0.8841 - loss: 0.2911 - val_accuracy: 0.8816 - val_loss: 0.2903\n",
      "Epoch 12/20\n",
      "\u001b[1m86/86\u001b[0m \u001b[32m━━━━━━━━━━━━━━━━━━━━\u001b[0m\u001b[37m\u001b[0m \u001b[1m7s\u001b[0m 82ms/step - accuracy: 0.8942 - loss: 0.2500 - val_accuracy: 0.8851 - val_loss: 0.2594\n",
      "Epoch 13/20\n",
      "\u001b[1m86/86\u001b[0m \u001b[32m━━━━━━━━━━━━━━━━━━━━\u001b[0m\u001b[37m\u001b[0m \u001b[1m7s\u001b[0m 82ms/step - accuracy: 0.8805 - loss: 0.2625 - val_accuracy: 0.9005 - val_loss: 0.2562\n",
      "Epoch 14/20\n",
      "\u001b[1m86/86\u001b[0m \u001b[32m━━━━━━━━━━━━━━━━━━━━\u001b[0m\u001b[37m\u001b[0m \u001b[1m7s\u001b[0m 82ms/step - accuracy: 0.9098 - loss: 0.2340 - val_accuracy: 0.8885 - val_loss: 0.2725\n",
      "Epoch 15/20\n",
      "\u001b[1m86/86\u001b[0m \u001b[32m━━━━━━━━━━━━━━━━━━━━\u001b[0m\u001b[37m\u001b[0m \u001b[1m7s\u001b[0m 81ms/step - accuracy: 0.9047 - loss: 0.2350 - val_accuracy: 0.8919 - val_loss: 0.2520\n",
      "Epoch 16/20\n",
      "\u001b[1m86/86\u001b[0m \u001b[32m━━━━━━━━━━━━━━━━━━━━\u001b[0m\u001b[37m\u001b[0m \u001b[1m7s\u001b[0m 84ms/step - accuracy: 0.8947 - loss: 0.2418 - val_accuracy: 0.8885 - val_loss: 0.2732\n",
      "Epoch 17/20\n",
      "\u001b[1m86/86\u001b[0m \u001b[32m━━━━━━━━━━━━━━━━━━━━\u001b[0m\u001b[37m\u001b[0m \u001b[1m7s\u001b[0m 82ms/step - accuracy: 0.9125 - loss: 0.2304 - val_accuracy: 0.9194 - val_loss: 0.2295\n",
      "Epoch 18/20\n",
      "\u001b[1m86/86\u001b[0m \u001b[32m━━━━━━━━━━━━━━━━━━━━\u001b[0m\u001b[37m\u001b[0m \u001b[1m7s\u001b[0m 82ms/step - accuracy: 0.9202 - loss: 0.2053 - val_accuracy: 0.9057 - val_loss: 0.2244\n",
      "Epoch 19/20\n",
      "\u001b[1m86/86\u001b[0m \u001b[32m━━━━━━━━━━━━━━━━━━━━\u001b[0m\u001b[37m\u001b[0m \u001b[1m7s\u001b[0m 82ms/step - accuracy: 0.9283 - loss: 0.1953 - val_accuracy: 0.9211 - val_loss: 0.2212\n",
      "Epoch 20/20\n",
      "\u001b[1m86/86\u001b[0m \u001b[32m━━━━━━━━━━━━━━━━━━━━\u001b[0m\u001b[37m\u001b[0m \u001b[1m7s\u001b[0m 81ms/step - accuracy: 0.9144 - loss: 0.2139 - val_accuracy: 0.9177 - val_loss: 0.2204\n"
     ]
    }
   ],
   "source": [
    "history = model.fit(\n",
    "    train_gen,\n",
    "    validation_data=val_gen,\n",
    "    epochs=20\n",
    ")"
   ]
  },
  {
   "cell_type": "code",
   "execution_count": 5,
   "id": "b01319dc-42b9-4aa3-b4bc-a9de1f0e5ee3",
   "metadata": {},
   "outputs": [
    {
     "name": "stdout",
     "output_type": "stream",
     "text": [
      "\u001b[1m19/19\u001b[0m \u001b[32m━━━━━━━━━━━━━━━━━━━━\u001b[0m\u001b[37m\u001b[0m \u001b[1m0s\u001b[0m 22ms/step - accuracy: 0.9363 - loss: 0.1681\n",
      "Acurácia no teste: 0.93\n"
     ]
    }
   ],
   "source": [
    "loss, acc = model.evaluate(test_gen)\n",
    "print(f\"Acurácia no teste: {acc:.2f}\")"
   ]
  },
  {
   "cell_type": "code",
   "execution_count": 6,
   "id": "6439fc86-9a0f-49e9-a339-ae4e44c0a363",
   "metadata": {},
   "outputs": [
    {
     "name": "stdout",
     "output_type": "stream",
     "text": [
      "\u001b[1m19/19\u001b[0m \u001b[32m━━━━━━━━━━━━━━━━━━━━\u001b[0m\u001b[37m\u001b[0m \u001b[1m0s\u001b[0m 22ms/step\n",
      "[[278  15]\n",
      " [ 25 268]]\n",
      "              precision    recall  f1-score   support\n",
      "\n",
      "   masculino       0.92      0.95      0.93       293\n",
      "    feminino       0.95      0.91      0.93       293\n",
      "\n",
      "    accuracy                           0.93       586\n",
      "   macro avg       0.93      0.93      0.93       586\n",
      "weighted avg       0.93      0.93      0.93       586\n",
      "\n"
     ]
    }
   ],
   "source": [
    "from sklearn.metrics import classification_report, confusion_matrix\n",
    "import numpy as np\n",
    "\n",
    "# Previsões\n",
    "y_true = test_gen.classes\n",
    "y_pred = (model.predict(test_gen) > 0.5).astype(\"int32\")\n",
    "\n",
    "print(confusion_matrix(y_true, y_pred))\n",
    "print(classification_report(y_true, y_pred, target_names=['masculino', 'feminino']))"
   ]
  },
  {
   "cell_type": "code",
   "execution_count": 7,
   "id": "f0b7e82e-49d7-4bc7-87fc-33087186454c",
   "metadata": {},
   "outputs": [
    {
     "data": {
      "image/png": "[encoded data removed]",
      "text/plain": [
       "<Figure size 640x480 with 1 Axes>"
      ]
     },
     "metadata": {},
     "output_type": "display_data"
    }
   ],
   "source": [
    "import matplotlib.pyplot as plt\n",
    "\n",
    "plt.plot(history.history['accuracy'], label='Treino')\n",
    "plt.plot(history.history['val_accuracy'], label='Validação')\n",
    "plt.title('Acurácia')\n",
    "plt.legend()\n",
    "plt.show()"
   ]
  },
  {
   "cell_type": "code",
   "execution_count": 8,
   "id": "b3ab70b4-4e71-4745-a147-03fd9f48ee80",
   "metadata": {},
   "outputs": [],
   "source": [
    "model.save('modelo_genero.keras')"
   ]
  }
 ],
 "metadata": {
  "kernelspec": {
   "display_name": "Python 3 (ipykernel)",
   "language": "python",
   "name": "python3"
  },
  "language_info": {
   "codemirror_mode": {
    "name": "ipython",
    "version": 3
   },
   "file_extension": ".py",
   "mimetype": "text/x-python",
   "name": "python",
   "nbconvert_exporter": "python",
   "pygments_lexer": "ipython3",
   "version": "3.10.0"
  }
 },
 "nbformat": 4,
 "nbformat_minor": 5
}
