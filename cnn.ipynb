{
 "cells": [
  {
   "cell_type": "code",
   "execution_count": 1,
   "id": "90b820b1-b76f-4447-b283-c3ad990084a2",
   "metadata": {},
   "outputs": [],
   "source": [
    "from tensorflow.keras.preprocessing.image import ImageDataGenerator"
   ]
  },
  {
   "cell_type": "code",
   "execution_count": 2,
   "id": "f63291f7-96ab-4f26-ab3c-6f7d4b433540",
   "metadata": {},
   "outputs": [
    {
     "name": "stdout",
     "output_type": "stream",
     "text": [
      "Found 2722 images belonging to 2 classes.\n",
      "Found 583 images belonging to 2 classes.\n",
      "Found 586 images belonging to 2 classes.\n"
     ]
    }
   ],
   "source": [
    "#Geradores de dados\n",
    "train_datagen = ImageDataGenerator(rescale=1./255, horizontal_flip=True, rotation_range=20)\n",
    "val_test_datagen = ImageDataGenerator(rescale=1./255)\n",
    "\n",
    "# Geradores\n",
    "train_gen = train_datagen.flow_from_directory(\n",
    "    './gender/treino', target_size=(96,96), batch_size=32, color_mode='grayscale', class_mode='binary')\n",
    "\n",
    "val_gen = val_test_datagen.flow_from_directory(\n",
    "    './gender/validacao', target_size=(96,96), batch_size=32, color_mode='grayscale',  class_mode='binary')\n",
    "\n",
    "test_gen = val_test_datagen.flow_from_directory(\n",
    "    './gender/teste', target_size=(96,96), batch_size=32, class_mode='binary', color_mode='grayscale',  shuffle=False)"
   ]
  },
  {
   "cell_type": "code",
   "execution_count": 3,
   "id": "e7a0ad75-fcc8-49b9-a487-9231bcce8bdd",
   "metadata": {},
   "outputs": [],
   "source": [
    "from tensorflow.keras.models import Sequential\n",
    "from tensorflow.keras.layers import Conv2D, MaxPooling2D, Flatten, Dense, Dropout, Input\n",
    "\n",
    "model = Sequential([\n",
    "    Input(shape=(96, 96, 1)),\n",
    "    # 32 filtros de convolucao 3x3 na imagem\n",
    "    # Usa funcao de ativacao relu\n",
    "    Conv2D(32, (3, 3), activation='relu'),\n",
    "    # Reduz o tamanho da imagem pela metade\n",
    "    MaxPooling2D(2, 2),\n",
    "\n",
    "    # 64 filtros de convolucao 3x3\n",
    "    Conv2D(64, (3, 3), activation='relu'),\n",
    "    # Reduz o tamanho pela metade\n",
    "    MaxPooling2D(2, 2),\n",
    "\n",
    "    # 128 filtros de convolucao 3x3\n",
    "    Conv2D(128, (3, 3), activation='relu'),\n",
    "    # Reduz pela metade\n",
    "    MaxPooling2D(2, 2),\n",
    "\n",
    "    # Achatando em um vetor\n",
    "    Flatten(),\n",
    "\n",
    "    # Zerando neuronios para evitar overfitting\n",
    "    Dropout(0.5),\n",
    "\n",
    "    # Camada densa (fully-connected)\n",
    "    Dense(128, activation='relu'),\n",
    "\n",
    "    # Camada de saida (binaria)\n",
    "    # Usa sigmoid\n",
    "    Dense(1, activation='sigmoid')\n",
    "])\n",
    "\n",
    "model.compile(optimizer='adam', loss='binary_crossentropy', metrics=['accuracy'])"
   ]
  },
  {
   "cell_type": "code",
   "execution_count": 4,
   "id": "8d376fd6-5e67-4409-91fa-7b0aa923d1fb",
   "metadata": {},
   "outputs": [
    {
     "name": "stdout",
     "output_type": "stream",
     "text": [
      "Epoch 1/20\n",
      "86/86 [==============================] - 9s 53ms/step - loss: 0.6670 - accuracy: 0.5779 - val_loss: 0.5723 - val_accuracy: 0.6964\n",
      "Epoch 2/20\n",
      "86/86 [==============================] - 3s 32ms/step - loss: 0.5270 - accuracy: 0.7325 - val_loss: 0.4433 - val_accuracy: 0.7907\n",
      "Epoch 3/20\n",
      "86/86 [==============================] - 3s 32ms/step - loss: 0.4187 - accuracy: 0.8226 - val_loss: 0.5018 - val_accuracy: 0.7564\n",
      "Epoch 4/20\n",
      "86/86 [==============================] - 3s 33ms/step - loss: 0.3899 - accuracy: 0.8350 - val_loss: 0.3573 - val_accuracy: 0.8525\n",
      "Epoch 5/20\n",
      "86/86 [==============================] - 3s 33ms/step - loss: 0.3482 - accuracy: 0.8553 - val_loss: 0.3322 - val_accuracy: 0.8508\n",
      "Epoch 6/20\n",
      "86/86 [==============================] - 3s 33ms/step - loss: 0.3086 - accuracy: 0.8722 - val_loss: 0.3141 - val_accuracy: 0.8611\n",
      "Epoch 7/20\n",
      "86/86 [==============================] - 3s 33ms/step - loss: 0.2983 - accuracy: 0.8773 - val_loss: 0.2920 - val_accuracy: 0.8765\n",
      "Epoch 8/20\n",
      "86/86 [==============================] - 3s 32ms/step - loss: 0.2785 - accuracy: 0.8828 - val_loss: 0.2746 - val_accuracy: 0.8954\n",
      "Epoch 9/20\n",
      "86/86 [==============================] - 3s 33ms/step - loss: 0.2622 - accuracy: 0.8905 - val_loss: 0.2424 - val_accuracy: 0.8971\n",
      "Epoch 10/20\n",
      "86/86 [==============================] - 3s 33ms/step - loss: 0.2559 - accuracy: 0.8942 - val_loss: 0.2778 - val_accuracy: 0.8816\n",
      "Epoch 11/20\n",
      "86/86 [==============================] - 3s 32ms/step - loss: 0.2482 - accuracy: 0.8960 - val_loss: 0.2840 - val_accuracy: 0.8885\n",
      "Epoch 12/20\n",
      "86/86 [==============================] - 3s 33ms/step - loss: 0.2527 - accuracy: 0.8982 - val_loss: 0.2124 - val_accuracy: 0.9057\n",
      "Epoch 13/20\n",
      "86/86 [==============================] - 3s 33ms/step - loss: 0.2280 - accuracy: 0.9074 - val_loss: 0.2643 - val_accuracy: 0.8868\n",
      "Epoch 14/20\n",
      "86/86 [==============================] - 3s 33ms/step - loss: 0.2207 - accuracy: 0.9126 - val_loss: 0.2132 - val_accuracy: 0.9057\n",
      "Epoch 15/20\n",
      "86/86 [==============================] - 3s 33ms/step - loss: 0.2087 - accuracy: 0.9115 - val_loss: 0.2149 - val_accuracy: 0.9022\n",
      "Epoch 16/20\n",
      "86/86 [==============================] - 3s 34ms/step - loss: 0.2047 - accuracy: 0.9188 - val_loss: 0.2150 - val_accuracy: 0.9074\n",
      "Epoch 17/20\n",
      "86/86 [==============================] - 3s 33ms/step - loss: 0.2141 - accuracy: 0.9118 - val_loss: 0.2744 - val_accuracy: 0.8851\n",
      "Epoch 18/20\n",
      "86/86 [==============================] - 3s 32ms/step - loss: 0.1972 - accuracy: 0.9221 - val_loss: 0.2038 - val_accuracy: 0.9057\n",
      "Epoch 19/20\n",
      "86/86 [==============================] - 3s 33ms/step - loss: 0.1949 - accuracy: 0.9225 - val_loss: 0.1969 - val_accuracy: 0.9142\n",
      "Epoch 20/20\n",
      "86/86 [==============================] - 3s 33ms/step - loss: 0.1864 - accuracy: 0.9298 - val_loss: 0.2238 - val_accuracy: 0.9005\n"
     ]
    }
   ],
   "source": [
    "history = model.fit(\n",
    "    train_gen,\n",
    "    validation_data=val_gen,\n",
    "    epochs=20\n",
    ")"
   ]
  },
  {
   "cell_type": "code",
   "execution_count": 5,
   "id": "b01319dc-42b9-4aa3-b4bc-a9de1f0e5ee3",
   "metadata": {},
   "outputs": [
    {
     "name": "stdout",
     "output_type": "stream",
     "text": [
      "19/19 [==============================] - 0s 18ms/step - loss: 0.1872 - accuracy: 0.9249\n",
      "Acurácia no teste: 0.92\n"
     ]
    }
   ],
   "source": [
    "loss, acc = model.evaluate(test_gen)\n",
    "print(f\"Acurácia no teste: {acc:.2f}\")"
   ]
  },
  {
   "cell_type": "code",
   "execution_count": 6,
   "id": "6439fc86-9a0f-49e9-a339-ae4e44c0a363",
   "metadata": {},
   "outputs": [
    {
     "name": "stdout",
     "output_type": "stream",
     "text": [
      "19/19 [==============================] - 0s 11ms/step\n",
      "[[264  29]\n",
      " [ 15 278]]\n",
      "              precision    recall  f1-score   support\n",
      "\n",
      "   masculino       0.95      0.90      0.92       293\n",
      "    feminino       0.91      0.95      0.93       293\n",
      "\n",
      "    accuracy                           0.92       586\n",
      "   macro avg       0.93      0.92      0.92       586\n",
      "weighted avg       0.93      0.92      0.92       586\n",
      "\n"
     ]
    }
   ],
   "source": [
    "from sklearn.metrics import classification_report, confusion_matrix\n",
    "import numpy as np\n",
    "\n",
    "# Previsões\n",
    "y_true = test_gen.classes\n",
    "y_pred = (model.predict(test_gen) > 0.5).astype(\"int32\")\n",
    "\n",
    "print(confusion_matrix(y_true, y_pred))\n",
    "print(classification_report(y_true, y_pred, target_names=['masculino', 'feminino']))"
   ]
  },
  {
   "cell_type": "code",
   "execution_count": 7,
   "id": "f0b7e82e-49d7-4bc7-87fc-33087186454c",
   "metadata": {},
   "outputs": [
    {
     "data": {
      "image/png": "[encoded data removed]",
      "text/plain": [
       "<Figure size 640x480 with 1 Axes>"
      ]
     },
     "metadata": {},
     "output_type": "display_data"
    }
   ],
   "source": [
    "import matplotlib.pyplot as plt\n",
    "\n",
    "plt.plot(history.history['accuracy'], label='Treino')\n",
    "plt.plot(history.history['val_accuracy'], label='Validação')\n",
    "plt.title('Acurácia')\n",
    "plt.legend()\n",
    "plt.show()"
   ]
  },
  {
   "cell_type": "code",
   "execution_count": 8,
   "id": "b3ab70b4-4e71-4745-a147-03fd9f48ee80",
   "metadata": {},
   "outputs": [],
   "source": [
    "model.save('modelo_genero.keras')"
   ]
  }
 ],
 "metadata": {
  "kernelspec": {
   "display_name": "Python 3 (ipykernel)",
   "language": "python",
   "name": "python3"
  },
  "language_info": {
   "codemirror_mode": {
    "name": "ipython",
    "version": 3
   },
   "file_extension": ".py",
   "mimetype": "text/x-python",
   "name": "python",
   "nbconvert_exporter": "python",
   "pygments_lexer": "ipython3",
   "version": "3.10.0"
  }
 },
 "nbformat": 4,
 "nbformat_minor": 5
}
